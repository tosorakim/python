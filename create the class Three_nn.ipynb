{
 "cells": [
  {
   "cell_type": "code",
   "execution_count": 1,
   "metadata": {},
   "outputs": [
    {
     "name": "stdout",
     "output_type": "stream",
     "text": [
      "정확도 0.9352\n"
     ]
    }
   ],
   "source": [
    "import numpy as np\n",
    "from common import  init_network, sigmoid, softmax\n",
    "from  dataset.mnist  import  load_mnist \n",
    "\n",
    "# 1. 데이터를 불러옵니다. ( 얀르쿤 교수님이 만든 필기체 데이터)\n",
    "def get_data():\n",
    "    (x_train, t_train), (x_test, t_test) = load_mnist(flatten=True, normalize=True,  one_hot_label=False) \n",
    "    return  x_test, t_test \n",
    "\n",
    "# 2. 가중치와 바이어스 값을 불러와서 3층 신경망에 흘려보내는 함수 \n",
    "\n",
    "def predict( network, x):\n",
    "    #network = init_network()\n",
    "    w1, w2, w3 = network['W1'], network['W2'], network['W3']\n",
    "    b1, b2, b3 = network['b1'], network['b2'], network['b3']\n",
    "  \n",
    "    # 3. 신경망을 구성합니다. \n",
    "    # 0층\n",
    "    # x = x_train[0:100]  # 일단 10개의 필기체 데이터를 구성합니다. \n",
    "    # 1층\n",
    "    y = np.dot(x,w1) + b1\n",
    "    y_hat = sigmoid(y)\n",
    "    # 2층\n",
    "    z = np.dot(y_hat, w2) + b2\n",
    "    z_hat = sigmoid(z)\n",
    "    # 3층\n",
    "    k = np.dot(z_hat, w3) + b3\n",
    "    k_hat =  softmax(k)\n",
    "    return  k_hat\n",
    "   \n",
    "# 3. 위에서 만든 get_data 함수와 predict 함수를 가져다가 실행하는 코드 (p101) \n",
    "\n",
    "x, t = get_data()  #  테스트 데이터와 테스트 데이터의 정답을 불러오는 코드\n",
    "network = init_network()  # 저자가 만들어온 가중치와 바이어스를 불러오는 코드 \n",
    "\n",
    "accuracy_cnt = 0\n",
    "for  i  in  range( len(x) ):\n",
    "    y = predict( network, x[i] )\n",
    "    p = np.argmax(y)\n",
    "    if  p == t[i]:\n",
    "        accuracy_cnt += 1\n",
    "\n",
    "print ( '정확도',  accuracy_cnt / len(x) ) "
   ]
  },
  {
   "cell_type": "code",
   "execution_count": 4,
   "metadata": {},
   "outputs": [
    {
     "name": "stdout",
     "output_type": "stream",
     "text": [
      "5\n",
      "5\n"
     ]
    }
   ],
   "source": [
    "n1 = Three_nn() #객체화 시킨다. 설계도 가지고 제품을 만든다.\n",
    "\n",
    "x, t = n1.get_data()  #  테스트 데이터와 테스트 데이터의 정답을 불러오는 코드\n",
    "network = n1.init_network()  # 저자가 만들어온 가중치와 바이어스를 불러오는 코드 \n",
    "\n",
    "result = n1.predict(network, x[0])\n",
    "print(np.argmax(result)) #5\n",
    "print(t[0]) #5"
   ]
  }
 ],
 "metadata": {
  "kernelspec": {
   "display_name": "Python 3",
   "language": "python",
   "name": "python3"
  },
  "language_info": {
   "codemirror_mode": {
    "name": "ipython",
    "version": 3
   },
   "file_extension": ".py",
   "mimetype": "text/x-python",
   "name": "python",
   "nbconvert_exporter": "python",
   "pygments_lexer": "ipython3",
   "version": "3.8.5"
  },
  "toc": {
   "base_numbering": 1,
   "nav_menu": {},
   "number_sections": true,
   "sideBar": true,
   "skip_h1_title": false,
   "title_cell": "Table of Contents",
   "title_sidebar": "Contents",
   "toc_cell": false,
   "toc_position": {},
   "toc_section_display": true,
   "toc_window_display": false
  }
 },
 "nbformat": 4,
 "nbformat_minor": 4
}
